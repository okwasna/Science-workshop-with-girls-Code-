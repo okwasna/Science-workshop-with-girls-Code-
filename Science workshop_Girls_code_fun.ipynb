{
  "nbformat": 4,
  "nbformat_minor": 0,
  "metadata": {
    "colab": {
      "provenance": [],
      "authorship_tag": "ABX9TyPrjz2h4g5NqeDUGTmdK7Uc",
      "include_colab_link": true
    },
    "kernelspec": {
      "name": "python3",
      "display_name": "Python 3"
    },
    "language_info": {
      "name": "python"
    }
  },
  "cells": [
    {
      "cell_type": "markdown",
      "metadata": {
        "id": "view-in-github",
        "colab_type": "text"
      },
      "source": [
        "<a href=\"https://colab.research.google.com/github/okwasna/warsztaty_girlscodefun/blob/main/Warsztaty_Python_17_03_Girls_code_fun.ipynb\" target=\"_parent\"><img src=\"https://colab.research.google.com/assets/colab-badge.svg\" alt=\"Open In Colab\"/></a>"
      ]
    },
    {
      "cell_type": "markdown",
      "source": [
        "# Zmienne\n",
        "<br> Integer-zmienna przechowująca wartośc liczbową całkowita"
      ],
      "metadata": {
        "id": "EBvHrNed2zre"
      }
    },
    {
      "cell_type": "code",
      "source": [
        "first_number = 12\n",
        "print(first_number)\n",
        "print(type(first_number))\n"
      ],
      "metadata": {
        "colab": {
          "base_uri": "https://localhost:8080/"
        },
        "id": "cTdlioE-26S2",
        "outputId": "fe9abdb6-0966-4b28-f755-fa8c816c8dbd"
      },
      "execution_count": 5,
      "outputs": [
        {
          "output_type": "stream",
          "name": "stdout",
          "text": [
            "12\n",
            "<class 'int'>\n"
          ]
        }
      ]
    },
    {
      "cell_type": "markdown",
      "source": [
        "Float-zmienna przechowująca wartość liczbową zmiennoprzecinkową"
      ],
      "metadata": {
        "id": "0vsgHXAp286S"
      }
    },
    {
      "cell_type": "code",
      "source": [
        "my_lucky_number = 12.23\n",
        "a = 1.1\n",
        "pi_number = 3.14\n",
        "print(type(my_lucky_number))"
      ],
      "metadata": {
        "id": "qwTeKVgO2_AL",
        "colab": {
          "base_uri": "https://localhost:8080/"
        },
        "outputId": "abf86629-d2e6-4844-c8d7-aa60f2134412"
      },
      "execution_count": 6,
      "outputs": [
        {
          "output_type": "stream",
          "name": "stdout",
          "text": [
            "<class 'float'>\n"
          ]
        }
      ]
    },
    {
      "cell_type": "markdown",
      "source": [
        "String-zmienna przechowująca wartość tekstową"
      ],
      "metadata": {
        "id": "ECFzLOTf3BBb"
      }
    },
    {
      "cell_type": "code",
      "source": [
        "my_text = 'Ala ma kota'\n",
        "my_description = \"Ala ma kota\"\n",
        "print(type(my_text))"
      ],
      "metadata": {
        "id": "i1cUovHU3Cp0",
        "colab": {
          "base_uri": "https://localhost:8080/"
        },
        "outputId": "93666312-5bb4-45ac-84d0-cc19402548d3"
      },
      "execution_count": 7,
      "outputs": [
        {
          "output_type": "stream",
          "name": "stdout",
          "text": [
            "<class 'str'>\n"
          ]
        }
      ]
    },
    {
      "cell_type": "markdown",
      "source": [
        "F-string"
      ],
      "metadata": {
        "id": "Ois1SlwU3EOX"
      }
    },
    {
      "cell_type": "code",
      "source": [
        "my_f_string = f\"{my_text}, a Jaś ma psa\"\n",
        "print(my_f_string)\n"
      ],
      "metadata": {
        "id": "IPZbihRR3GEz",
        "colab": {
          "base_uri": "https://localhost:8080/"
        },
        "outputId": "07a1206c-b89a-4530-91ab-cfd6d161e01f"
      },
      "execution_count": 8,
      "outputs": [
        {
          "output_type": "stream",
          "name": "stdout",
          "text": [
            "Ala ma kota, a Jaś ma psa\n"
          ]
        }
      ]
    },
    {
      "cell_type": "markdown",
      "source": [
        "Boolean- zmienna rpzechowująca wartość logiczną True/False"
      ],
      "metadata": {
        "id": "ky_R9L5p3JMy"
      }
    },
    {
      "cell_type": "code",
      "source": [
        "my_answer = True\n",
        "your_answer = False\n"
      ],
      "metadata": {
        "id": "kUa_OhJG3NI2"
      },
      "execution_count": 9,
      "outputs": []
    },
    {
      "cell_type": "markdown",
      "source": [
        "None-zmienna przechowująca pustą wartość."
      ],
      "metadata": {
        "id": "n14mn8Yo3Odw"
      }
    },
    {
      "cell_type": "code",
      "source": [
        "nothing = None\n",
        "print(nothing)\n",
        "print(type(nothing))\n"
      ],
      "metadata": {
        "id": "qa7rpCIP3Rkb",
        "colab": {
          "base_uri": "https://localhost:8080/"
        },
        "outputId": "6423eca0-4f0d-4676-aa82-fb1e529850f7"
      },
      "execution_count": 10,
      "outputs": [
        {
          "output_type": "stream",
          "name": "stdout",
          "text": [
            "None\n",
            "<class 'NoneType'>\n"
          ]
        }
      ]
    },
    {
      "cell_type": "markdown",
      "source": [
        "Do sprawdzenia czy zmienna jest int"
      ],
      "metadata": {
        "id": "DlUFhLfR3S4C"
      }
    },
    {
      "cell_type": "code",
      "source": [
        "my_textbook = 'Tralala'\n",
        "print(isinstance(my_textbook, int))"
      ],
      "metadata": {
        "id": "Shwxi2QK3Vxg",
        "colab": {
          "base_uri": "https://localhost:8080/"
        },
        "outputId": "55ab81a5-433a-4173-a84f-7a1d5a65879e"
      },
      "execution_count": 11,
      "outputs": [
        {
          "output_type": "stream",
          "name": "stdout",
          "text": [
            "False\n"
          ]
        }
      ]
    },
    {
      "cell_type": "markdown",
      "source": [
        "#Zadanie\n",
        "Stwórz zmienne zawierające napis, liczbę całkowitą, liczbę zmiennoprzecinkową.\n",
        "Zmienna zawierająca napis na nazywać się my_first_words,\n",
        "zmienna zawierająca liczbę całkowitą ma nazywać się my_favourite_number,\n",
        "a zmienna zawierająca liczbę zmiennoprzecinkową ma nazywać się my_pi_number\n",
        "Wyprintuj sobie te zmienne w konsoli."
      ],
      "metadata": {
        "id": "sMge5-Wy3Yxq"
      }
    },
    {
      "cell_type": "code",
      "source": [
        "my_first_words = 'Jestem Oliwia'\n",
        "my_favourite_number = 222\n",
        "my_pi_number = 3.14\n",
        "\n",
        "print(my_first_words, my_favourite_number, my_pi_number)\n",
        "print(type(my_pi_number))"
      ],
      "metadata": {
        "id": "CMvF-KJR3ah6",
        "colab": {
          "base_uri": "https://localhost:8080/"
        },
        "outputId": "706d7685-4bbb-4b59-dad0-1b3e6942c2be"
      },
      "execution_count": 12,
      "outputs": [
        {
          "output_type": "stream",
          "name": "stdout",
          "text": [
            "Jestem Oliwia 222 3.14\n",
            "<class 'float'>\n"
          ]
        }
      ]
    },
    {
      "cell_type": "markdown",
      "source": [
        "#Zbiory Danych\n",
        "\n",
        "list- lista/tablica- tworzymy używajać []- mozna wrzucić róźne typy danych"
      ],
      "metadata": {
        "id": "QsqRmRO33cXE"
      }
    },
    {
      "cell_type": "code",
      "source": [
        "my_list = [1, 2, 3.14, 'Ala ma kota']\n",
        "print(my_list[-3])"
      ],
      "metadata": {
        "id": "t0MWbPbT3gwH",
        "colab": {
          "base_uri": "https://localhost:8080/"
        },
        "outputId": "8b4dafce-b4c4-4557-92c9-080ce424e383"
      },
      "execution_count": 13,
      "outputs": [
        {
          "output_type": "stream",
          "name": "stdout",
          "text": [
            "2\n"
          ]
        }
      ]
    },
    {
      "cell_type": "markdown",
      "source": [
        "-> elementy moga się powtarzać\n",
        "-> elementy są uporządkowane\n",
        "-> elementy są indeksowane(zaczynają się od 0)\n",
        "-> elementy listy moga zmieniac, usuwac, dodawac\n",
        "-> listy można łączyć\n",
        "-> listy mozna kroić, aby wyciagnąć tylko potrzebnee częsci listy"
      ],
      "metadata": {
        "id": "4a5a0G_h3iW7"
      }
    },
    {
      "cell_type": "markdown",
      "source": [
        "wyciągnięcie konkretnego elementu z listy"
      ],
      "metadata": {
        "id": "Kfq8DGss3szL"
      }
    },
    {
      "cell_type": "code",
      "source": [
        "my_favourite_numbers = [3, 7, 9, 12, 77]\n",
        "\n",
        "my_true_number = my_favourite_numbers[2]\n",
        "print(my_true_number)\n"
      ],
      "metadata": {
        "id": "IrlYcZdE3umQ",
        "colab": {
          "base_uri": "https://localhost:8080/"
        },
        "outputId": "a6698ea7-5630-480f-eb8c-a09dbb518287"
      },
      "execution_count": 14,
      "outputs": [
        {
          "output_type": "stream",
          "name": "stdout",
          "text": [
            "9\n"
          ]
        }
      ]
    },
    {
      "cell_type": "markdown",
      "source": [
        "usunięcie elementu o podanym indeksie"
      ],
      "metadata": {
        "id": "iIKAEtfO3xLV"
      }
    },
    {
      "cell_type": "code",
      "source": [
        "my_favourite_numbers.pop(3)\n",
        "print(my_favourite_numbers)\n"
      ],
      "metadata": {
        "id": "-58Zr8Vl3zMP",
        "colab": {
          "base_uri": "https://localhost:8080/"
        },
        "outputId": "cfdcb719-7486-4abe-e949-7aa6e28c0b3c"
      },
      "execution_count": 15,
      "outputs": [
        {
          "output_type": "stream",
          "name": "stdout",
          "text": [
            "[3, 7, 9, 77]\n"
          ]
        }
      ]
    },
    {
      "cell_type": "markdown",
      "source": [
        "sprawdzenie ile elementów zawiera lista\n"
      ],
      "metadata": {
        "id": "ZCItPuvw33rj"
      }
    },
    {
      "cell_type": "code",
      "source": [
        "print(len(my_favourite_numbers))"
      ],
      "metadata": {
        "id": "7xff0Mry34jP",
        "colab": {
          "base_uri": "https://localhost:8080/"
        },
        "outputId": "9e165858-ab7e-47d8-fcb8-940157903406"
      },
      "execution_count": 16,
      "outputs": [
        {
          "output_type": "stream",
          "name": "stdout",
          "text": [
            "4\n"
          ]
        }
      ]
    },
    {
      "cell_type": "markdown",
      "source": [
        "dodanie elementu na koncu listy-append"
      ],
      "metadata": {
        "id": "a97s5n0n371p"
      }
    },
    {
      "cell_type": "code",
      "source": [
        "my_favourite_numbers.append(38)\n",
        "print(my_favourite_numbers)"
      ],
      "metadata": {
        "id": "oF92g2PE3-W1",
        "colab": {
          "base_uri": "https://localhost:8080/"
        },
        "outputId": "7817b4b6-7d05-431d-cb36-27cc34047691"
      },
      "execution_count": 17,
      "outputs": [
        {
          "output_type": "stream",
          "name": "stdout",
          "text": [
            "[3, 7, 9, 77, 38]\n"
          ]
        }
      ]
    },
    {
      "cell_type": "markdown",
      "source": [
        "dodanie elementu na określonym miejscu-insert,\n",
        "najpierw na jakim indeksie, a potem co"
      ],
      "metadata": {
        "id": "uB58HVXX3__k"
      }
    },
    {
      "cell_type": "code",
      "source": [
        "my_favourite_numbers.insert(0, 99)\n",
        "print(my_favourite_numbers)\n"
      ],
      "metadata": {
        "id": "CMCZNkZK4Dks",
        "colab": {
          "base_uri": "https://localhost:8080/"
        },
        "outputId": "20704b0b-1e1a-44cc-e1f6-ba3dc03d461e"
      },
      "execution_count": 18,
      "outputs": [
        {
          "output_type": "stream",
          "name": "stdout",
          "text": [
            "[99, 3, 7, 9, 77, 38]\n"
          ]
        }
      ]
    },
    {
      "cell_type": "markdown",
      "source": [
        "lista bez dwoch pierwszych elementów"
      ],
      "metadata": {
        "id": "JDZCppxV4GM6"
      }
    },
    {
      "cell_type": "code",
      "source": [
        "my_new_list = my_favourite_numbers[2::]\n",
        "print(my_new_list)\n"
      ],
      "metadata": {
        "id": "LcEAWs444H14",
        "colab": {
          "base_uri": "https://localhost:8080/"
        },
        "outputId": "e2877aa7-0c13-4853-9884-48bad96ff18e"
      },
      "execution_count": 19,
      "outputs": [
        {
          "output_type": "stream",
          "name": "stdout",
          "text": [
            "[7, 9, 77, 38]\n"
          ]
        }
      ]
    },
    {
      "cell_type": "markdown",
      "source": [
        "sumowanie elementów"
      ],
      "metadata": {
        "id": "7PBqHDWy4J2h"
      }
    },
    {
      "cell_type": "code",
      "source": [
        "print(sum(my_favourite_numbers))"
      ],
      "metadata": {
        "id": "UMp49aOV4N9T",
        "colab": {
          "base_uri": "https://localhost:8080/"
        },
        "outputId": "7c0ea8ac-75cd-429b-c973-9b760df91102"
      },
      "execution_count": 20,
      "outputs": [
        {
          "output_type": "stream",
          "name": "stdout",
          "text": [
            "233\n"
          ]
        }
      ]
    },
    {
      "cell_type": "markdown",
      "source": [
        "sortowanie elementów listy"
      ],
      "metadata": {
        "id": "7quPno3D4Pjp"
      }
    },
    {
      "cell_type": "code",
      "source": [
        "print(sorted(my_favourite_numbers))"
      ],
      "metadata": {
        "id": "yOLtMik-4RlC",
        "colab": {
          "base_uri": "https://localhost:8080/"
        },
        "outputId": "46302905-8aa3-49a8-c8c0-beece6a45644"
      },
      "execution_count": 21,
      "outputs": [
        {
          "output_type": "stream",
          "name": "stdout",
          "text": [
            "[3, 7, 9, 38, 77, 99]\n"
          ]
        }
      ]
    },
    {
      "cell_type": "markdown",
      "source": [
        "tuple- krotka- ona nie jest mutowalna, niesortowalna"
      ],
      "metadata": {
        "id": "xWzI8Cd44TFa"
      }
    },
    {
      "cell_type": "code",
      "source": [
        "my_tuple = (1, 3, 18, 18, 'Oliwia')\n",
        "print(my_tuple)\n",
        "print(my_tuple[1])\n",
        "print(len(my_tuple))\n"
      ],
      "metadata": {
        "id": "vaPl5WRh4VFR",
        "colab": {
          "base_uri": "https://localhost:8080/"
        },
        "outputId": "9cd76aff-efe9-42f3-adb9-e32955283a38"
      },
      "execution_count": 22,
      "outputs": [
        {
          "output_type": "stream",
          "name": "stdout",
          "text": [
            "(1, 3, 18, 18, 'Oliwia')\n",
            "3\n",
            "5\n"
          ]
        }
      ]
    },
    {
      "cell_type": "markdown",
      "source": [
        "słowniki-DICT {} zbiór klucz-wartość\n",
        "-> klucze są unikalne\n",
        "-> nie jest indeksowalny\n",
        "-> słowniki są mutowalne\n",
        "-> do przechowywania"
      ],
      "metadata": {
        "id": "EHIioEvx4Wjl"
      }
    },
    {
      "cell_type": "code",
      "source": [
        "my_dict = {\n",
        "    \"name\": \"Oliwia\",\n",
        "    \"surname\": \"Kwasna\",\n",
        "    \"city\": \"Poznań\",\n",
        "    \"year\": 2002\n",
        "}\n",
        "welcome_string = f\"Witaj {my_dict['name']}{my_dict['surname']}\"\n",
        "print(welcome_string)\n"
      ],
      "metadata": {
        "id": "MEF6EMjj4aX1",
        "colab": {
          "base_uri": "https://localhost:8080/"
        },
        "outputId": "e104d02d-4b57-4d7e-d85a-28914c54b43e"
      },
      "execution_count": 23,
      "outputs": [
        {
          "output_type": "stream",
          "name": "stdout",
          "text": [
            "Witaj OliwiaKwasna\n"
          ]
        }
      ]
    },
    {
      "cell_type": "markdown",
      "source": [
        "usuwanie klucza-wartosci z dicta"
      ],
      "metadata": {
        "id": "l4o5g6Tp4cIU"
      }
    },
    {
      "cell_type": "code",
      "source": [
        "del my_dict[\"year\"]\n",
        "print(my_dict)"
      ],
      "metadata": {
        "id": "bXb0OV364eOL",
        "colab": {
          "base_uri": "https://localhost:8080/"
        },
        "outputId": "513d4acc-271d-4cd2-d3ad-4769f2d527cf"
      },
      "execution_count": 24,
      "outputs": [
        {
          "output_type": "stream",
          "name": "stdout",
          "text": [
            "{'name': 'Oliwia', 'surname': 'Kwasna', 'city': 'Poznań'}\n"
          ]
        }
      ]
    },
    {
      "cell_type": "markdown",
      "source": [
        "wyciąganie wszystkich kluczy z dicta- zwraca listę"
      ],
      "metadata": {
        "id": "HmYZHQCH4frK"
      }
    },
    {
      "cell_type": "code",
      "source": [
        "print(my_dict.keys())"
      ],
      "metadata": {
        "id": "5JyLioOk4hlS",
        "colab": {
          "base_uri": "https://localhost:8080/"
        },
        "outputId": "553a7505-83fc-49d6-ff87-d018a8939452"
      },
      "execution_count": 25,
      "outputs": [
        {
          "output_type": "stream",
          "name": "stdout",
          "text": [
            "dict_keys(['name', 'surname', 'city'])\n"
          ]
        }
      ]
    },
    {
      "cell_type": "markdown",
      "source": [
        "wyciągniecie wartości z dicta"
      ],
      "metadata": {
        "id": "d5gmO7jC4i0c"
      }
    },
    {
      "cell_type": "code",
      "source": [
        "print(my_dict.values())"
      ],
      "metadata": {
        "id": "KObvolOS4lSO",
        "colab": {
          "base_uri": "https://localhost:8080/"
        },
        "outputId": "515a67da-808e-47a6-abfe-c9d6c18babc3"
      },
      "execution_count": 26,
      "outputs": [
        {
          "output_type": "stream",
          "name": "stdout",
          "text": [
            "dict_values(['Oliwia', 'Kwasna', 'Poznań'])\n"
          ]
        }
      ]
    },
    {
      "cell_type": "markdown",
      "source": [
        "wyciągniecie par klucz-wartośc z dicta- zwraca liste  tupli"
      ],
      "metadata": {
        "id": "ZXbYbGt-4nHN"
      }
    },
    {
      "cell_type": "code",
      "source": [
        "print(my_dict.items())\n",
        "my_dict['country'] = 'Poland'\n",
        "\n",
        "print(my_dict)"
      ],
      "metadata": {
        "id": "SDX_GNyK4ofP",
        "colab": {
          "base_uri": "https://localhost:8080/"
        },
        "outputId": "5b422d6e-d939-4c5e-dbbb-fcef716e9e23"
      },
      "execution_count": 27,
      "outputs": [
        {
          "output_type": "stream",
          "name": "stdout",
          "text": [
            "dict_items([('name', 'Oliwia'), ('surname', 'Kwasna'), ('city', 'Poznań')])\n",
            "{'name': 'Oliwia', 'surname': 'Kwasna', 'city': 'Poznań', 'country': 'Poland'}\n"
          ]
        }
      ]
    },
    {
      "cell_type": "markdown",
      "source": [
        "set- tworzy sie przez klamry/nawiasy wasate {}. unikalne elemnety\n",
        "\n",
        "-> elementy nie powtarzaja się\n",
        "-> nie sa uporzadkowane\n",
        "-> nie sa indeksowane\n",
        "-> elementy setu nie sa mutowalne"
      ],
      "metadata": {
        "id": "5Cgdqo2b4qHH"
      }
    },
    {
      "cell_type": "code",
      "source": [
        "my_set = {1, 2, 3, 4, 5, 7, 7, 7}\n",
        "print(my_set)\n",
        "print(len(my_set))"
      ],
      "metadata": {
        "id": "8vX9bW1D4x6E",
        "colab": {
          "base_uri": "https://localhost:8080/"
        },
        "outputId": "9dd27b03-469b-4bcd-abc4-455f4bea92ef"
      },
      "execution_count": 28,
      "outputs": [
        {
          "output_type": "stream",
          "name": "stdout",
          "text": [
            "{1, 2, 3, 4, 5, 7}\n",
            "6\n"
          ]
        }
      ]
    },
    {
      "cell_type": "markdown",
      "source": [
        "dodanie elementu na koniec setu"
      ],
      "metadata": {
        "id": "O5gVczVh40DV"
      }
    },
    {
      "cell_type": "code",
      "source": [
        "my_set.add(11)\n",
        "print(my_set)"
      ],
      "metadata": {
        "id": "p0BRxRdh41-Q",
        "colab": {
          "base_uri": "https://localhost:8080/"
        },
        "outputId": "dc9d7900-7e8d-4bc7-de51-1a7e6d3c1b67"
      },
      "execution_count": 29,
      "outputs": [
        {
          "output_type": "stream",
          "name": "stdout",
          "text": [
            "{1, 2, 3, 4, 5, 7, 11}\n"
          ]
        }
      ]
    },
    {
      "cell_type": "markdown",
      "source": [
        "dodanie kilku elementów do setu"
      ],
      "metadata": {
        "id": "UvM81NBX44K5"
      }
    },
    {
      "cell_type": "code",
      "source": [
        "my_set.update({13, 14, 15})\n",
        "print(my_set)"
      ],
      "metadata": {
        "id": "hOVmmy1q48El",
        "colab": {
          "base_uri": "https://localhost:8080/"
        },
        "outputId": "ebac2f24-e75d-47ae-c939-e63a4d75625b"
      },
      "execution_count": 30,
      "outputs": [
        {
          "output_type": "stream",
          "name": "stdout",
          "text": [
            "{1, 2, 3, 4, 5, 7, 11, 13, 14, 15}\n"
          ]
        }
      ]
    },
    {
      "cell_type": "markdown",
      "source": [
        "usunięcie konkretnego elementu z setu"
      ],
      "metadata": {
        "id": "KOVOXjNb48xo"
      }
    },
    {
      "cell_type": "code",
      "source": [
        "my_set.remove(7)\n",
        "print(my_set)"
      ],
      "metadata": {
        "id": "IPqcnB404_R0",
        "colab": {
          "base_uri": "https://localhost:8080/"
        },
        "outputId": "ead4434c-df16-4b13-f602-0d4ef608bc06"
      },
      "execution_count": 31,
      "outputs": [
        {
          "output_type": "stream",
          "name": "stdout",
          "text": [
            "{1, 2, 3, 4, 5, 11, 13, 14, 15}\n"
          ]
        }
      ]
    },
    {
      "cell_type": "markdown",
      "source": [
        "dzieki uyciu funkcji wbudowanej w pythona set() zmienimy liste na set, pozbywaja sie dzieki temu duplikatow, na koniec uzywajac funkcji wbudowanej list() tworzymy liste bez duplikatow"
      ],
      "metadata": {
        "id": "l4jrtHcY5Bah"
      }
    },
    {
      "cell_type": "code",
      "source": [
        "my_final_list = [\n",
        "    'ania', 'ania', 'kasia', 'kasia', 'kasia', 'paula', 'karolina'\n",
        "]\n",
        "print(set(my_final_list))\n",
        "\n",
        "final_users_list = list(set(my_final_list))\n",
        "print(final_users_list)"
      ],
      "metadata": {
        "id": "lHtPe9La5DzK",
        "colab": {
          "base_uri": "https://localhost:8080/"
        },
        "outputId": "1a6c71d4-a924-4867-916d-852521cdbf91"
      },
      "execution_count": 32,
      "outputs": [
        {
          "output_type": "stream",
          "name": "stdout",
          "text": [
            "{'karolina', 'kasia', 'ania', 'paula'}\n",
            "['karolina', 'kasia', 'ania', 'paula']\n"
          ]
        }
      ]
    },
    {
      "cell_type": "markdown",
      "source": [
        "#Zadanie\n",
        "Stwórz listę z pięcioma owocami. Potem na koniec listy dodaj następny owoc (za pomocą funkcji append).\n",
        "Potem usuń drugi owoc z listy (za pomocą funkcji pop()).\n",
        "Po kazdej operacji wyprintuj jak wyglada lista."
      ],
      "metadata": {
        "id": "G1MNgmkm5Fe9"
      }
    },
    {
      "cell_type": "code",
      "source": [
        "my_fruits = ['banan', 'jablko', 'pomarancz', 'kiwi', 'arbuz']\n",
        "my_fruits.append(\"ananas\")\n",
        "print(my_fruits)\n",
        "my_fruits.pop(1)\n",
        "print(my_fruits)\n"
      ],
      "metadata": {
        "id": "BBf2eQzF5HZ3",
        "colab": {
          "base_uri": "https://localhost:8080/"
        },
        "outputId": "8e2b40c4-ff66-4c35-a963-f493e67b7cb2"
      },
      "execution_count": 33,
      "outputs": [
        {
          "output_type": "stream",
          "name": "stdout",
          "text": [
            "['banan', 'jablko', 'pomarancz', 'kiwi', 'arbuz', 'ananas']\n",
            "['banan', 'pomarancz', 'kiwi', 'arbuz', 'ananas']\n"
          ]
        }
      ]
    },
    {
      "cell_type": "markdown",
      "source": [
        "#Zadanie\n",
        "Stworz slownik reprezentujacy ksiazke. Slownik ten powinien zawierac tytul(title), autora(author), rok wydania(year) i ilosc stron(pages). Nastepnie wyprintuj autora i tytul w f'stringu."
      ],
      "metadata": {
        "id": "T1Sj8AbL5JyP"
      }
    },
    {
      "cell_type": "code",
      "source": [
        "my_book = {\n",
        "    \"title\": \"nic mnie nie złamie\",\n",
        "    \"author\": \"david goggins\",\n",
        "    \"year\": \"2023\",\n",
        "    \"pages\": \"350\"\n",
        "}\n",
        "my_f_book = f\"moja ulubiona ksiazka to {my_book['title']} jej autorem jest {my_book['author']}\"\n",
        "print(my_f_book)\n"
      ],
      "metadata": {
        "id": "NtqzuSXO5Lwi",
        "colab": {
          "base_uri": "https://localhost:8080/"
        },
        "outputId": "aebdf56a-970c-467f-b81b-577c990d8579"
      },
      "execution_count": 34,
      "outputs": [
        {
          "output_type": "stream",
          "name": "stdout",
          "text": [
            "moja ulubiona ksiazka to nic mnie nie złamie jej autorem jest david goggins\n"
          ]
        }
      ]
    },
    {
      "cell_type": "markdown",
      "source": [
        "#Operatory arytmetyczne\n",
        "\n",
        "Arytmetyczne*:\n",
        " <br> +(dodawanie),\n",
        " -(odejmowanie),\n",
        " *(mnozenie),\n",
        " **(potegowanie),\n",
        " /(dzielenie),\n",
        " %(reszta z dzielenia),\n",
        " '>'(wieksze niz),\n",
        " <(mniejsze niz),\n",
        " '>='(wieksze rowne niz),\n",
        " '<='(mniejsze równe niz),\n",
        " '=='(równa się),\n",
        " '!=' (nie równa się)\n",
        " <br> Logiczne:\n",
        "  <br> and-i, or-lub,\n",
        " not-nie"
      ],
      "metadata": {
        "id": "xA3dXbT85OOE"
      }
    },
    {
      "cell_type": "code",
      "source": [
        "x = 5\n",
        "y = 8.18\n",
        "print(x > y)\n",
        "print((x <= y) and (x == y))\n",
        "print((x <= y) or (x == y))\n",
        "print(x * y)\n",
        "print(x**y)\n"
      ],
      "metadata": {
        "id": "8YpWEATP6eYC",
        "colab": {
          "base_uri": "https://localhost:8080/"
        },
        "outputId": "f48e900f-64c6-4528-b59f-b1ab78157ace"
      },
      "execution_count": 35,
      "outputs": [
        {
          "output_type": "stream",
          "name": "stdout",
          "text": [
            "False\n",
            "False\n",
            "True\n",
            "40.9\n",
            "521884.78479065024\n"
          ]
        }
      ]
    },
    {
      "cell_type": "markdown",
      "source": [
        "\n",
        "#Instrukcje warunkowe\n",
        "if... else\n",
        "\n",
        "if warunek:\n",
        "  <br> &nbsp; &nbsp; wykonujemy okresloną czesc  kodu\n",
        "<br>elif inny warunek:\n",
        " <br> &nbsp; &nbsp; wykonujemy okreslona czesc kodu\n",
        "<br>else:\n",
        "  <br>&nbsp; &nbsp; wykonują tę część kodu\n"
      ],
      "metadata": {
        "id": "qwZreLdT6gJB"
      }
    },
    {
      "cell_type": "code",
      "source": [
        "ocena = 1\n",
        "if ocena >= 4:\n",
        "  print('dobra robota')\n",
        "elif ocena > 2 and ocena <= 4:\n",
        "  print('jako tako')\n",
        "else:\n",
        "  print('zleee')\n"
      ],
      "metadata": {
        "id": "roJPyjF-7Qki",
        "colab": {
          "base_uri": "https://localhost:8080/"
        },
        "outputId": "792ed6dd-31d5-40a7-a395-64a088041b8d"
      },
      "execution_count": 36,
      "outputs": [
        {
          "output_type": "stream",
          "name": "stdout",
          "text": [
            "zleee\n"
          ]
        }
      ]
    },
    {
      "cell_type": "markdown",
      "source": [
        "petle\n",
        "\n",
        "for zmienna in zbior?\n",
        "    <br> &nbsp; &nbsp; kod do wykonania na kazdym elemencie         zbioru"
      ],
      "metadata": {
        "id": "sJBRz1_37R5Z"
      }
    },
    {
      "cell_type": "code",
      "source": [
        "my_animals = ['kot', 'pies', 'jez', 'malpa', 'slon']\n",
        "\n",
        "for animal in my_animals:\n",
        "  print(f\"Witaj {animal}\")\n"
      ],
      "metadata": {
        "id": "AShMJtNA7bTR",
        "colab": {
          "base_uri": "https://localhost:8080/"
        },
        "outputId": "4f794219-fddb-4d11-cbfd-67a2dd4b5e78"
      },
      "execution_count": 37,
      "outputs": [
        {
          "output_type": "stream",
          "name": "stdout",
          "text": [
            "Witaj kot\n",
            "Witaj pies\n",
            "Witaj jez\n",
            "Witaj malpa\n",
            "Witaj slon\n"
          ]
        }
      ]
    },
    {
      "cell_type": "code",
      "source": [
        "week_days = [\n",
        "    'poniedzialek', 'wtorek', 'sroda', 'czwartek', 'piatek', 'sobota',\n",
        "    'niedziela'\n",
        "]\n",
        "\n",
        "for day in week_days:\n",
        "  if day == 'sobota' or day == 'niedziela':\n",
        "    print('mamy weekend!')\n",
        "  else:\n",
        "    print('to srodek tygodnia')\n"
      ],
      "metadata": {
        "id": "P86_X0PT7fZP",
        "colab": {
          "base_uri": "https://localhost:8080/"
        },
        "outputId": "5cbd9aaa-6684-4ea3-aa0c-3b44af36f553"
      },
      "execution_count": 38,
      "outputs": [
        {
          "output_type": "stream",
          "name": "stdout",
          "text": [
            "to srodek tygodnia\n",
            "to srodek tygodnia\n",
            "to srodek tygodnia\n",
            "to srodek tygodnia\n",
            "to srodek tygodnia\n",
            "mamy weekend!\n",
            "mamy weekend!\n"
          ]
        }
      ]
    },
    {
      "cell_type": "markdown",
      "source": [
        "funkcja wbudowana input - zwraca zawsze string"
      ],
      "metadata": {
        "id": "7dbE-nTI7h1_"
      }
    },
    {
      "cell_type": "code",
      "source": [
        "users_info = input('podaj swoje imie ')\n",
        "print(users_info)\n"
      ],
      "metadata": {
        "colab": {
          "base_uri": "https://localhost:8080/"
        },
        "id": "va4qc8S57kQL",
        "outputId": "6ce5c8c8-4332-4bb8-9e1c-3a0db7db9a2f"
      },
      "execution_count": 39,
      "outputs": [
        {
          "output_type": "stream",
          "name": "stdout",
          "text": [
            "podaj swoje imie Oliwia\n",
            "Oliwia\n"
          ]
        }
      ]
    },
    {
      "cell_type": "code",
      "source": [
        "users_age = int(input('Ile masz lat? '))\n",
        "\n",
        "if users_age >= 18:\n",
        "  print('możesz do nas wejść')\n",
        "else:\n",
        "  print('nie wchodzisz, bo dzieciak')\n"
      ],
      "metadata": {
        "colab": {
          "base_uri": "https://localhost:8080/"
        },
        "id": "hSTnC9U_7nBS",
        "outputId": "2f8bc5c9-cae0-4ed4-922c-7e0b6b99c360"
      },
      "execution_count": 40,
      "outputs": [
        {
          "output_type": "stream",
          "name": "stdout",
          "text": [
            "Ile masz lat? 22\n",
            "możesz do nas wejść\n"
          ]
        }
      ]
    },
    {
      "cell_type": "markdown",
      "source": [
        "Pętla while - jest to pętla, ktora będzie wykonywac się do momentu az warunek przestanie byc spelniany<br>\n",
        "<br> while warunek:\n",
        "    <br> &nbsp; &nbsp; blok kodu do wykonania, dopóki warunek       jest spełniony\n",
        "<br><br>\n",
        "słowo kluczowe break w pętli while pozwala nam przerwać działanie pętli w konkretnym przypadku\n",
        "\n",
        "NIGDY nie robimy pętli nieskończonych, gdyz zatniemy program."
      ],
      "metadata": {
        "id": "OypeRfhv7uN8"
      }
    },
    {
      "cell_type": "code",
      "source": [
        "licznik = 0\n",
        "\n",
        "while licznik <= 5:\n",
        "  print(licznik)\n",
        "  licznik += 1\n",
        "licznik = licznik + 1\n",
        "\n",
        "number = 0\n",
        "while number < 5:\n",
        "  print(number)\n",
        "  number += 1\n",
        "\n",
        "  if number == 3:\n",
        "    break"
      ],
      "metadata": {
        "id": "jWs-gQxj78fh",
        "colab": {
          "base_uri": "https://localhost:8080/"
        },
        "outputId": "67121982-283e-4fa2-8a61-a48ed1fbc9eb"
      },
      "execution_count": 42,
      "outputs": [
        {
          "output_type": "stream",
          "name": "stdout",
          "text": [
            "0\n",
            "1\n",
            "2\n",
            "3\n",
            "4\n",
            "5\n",
            "0\n",
            "1\n",
            "2\n"
          ]
        }
      ]
    },
    {
      "cell_type": "markdown",
      "source": [
        "#Zadanie\n",
        "Napisz pętle while na podstawie inputu uzytkownika. W inpucie uzytkownik ma podac swoje ulubione zwierze. Jesli tym zwierzeciem bedzie kot przerwij dzialanie petli"
      ],
      "metadata": {
        "id": "p-3i3zN67-ME"
      }
    },
    {
      "cell_type": "code",
      "source": [
        "while True:\n",
        "  users_animal = input('Podaj swojego zwierzaka: ')\n",
        "  print(f'Witaj {users_animal}')\n",
        "\n",
        "  if users_animal == 'kot':\n",
        "    print('bye bye')\n",
        "    break"
      ],
      "metadata": {
        "id": "vwuXU9537_2m",
        "colab": {
          "base_uri": "https://localhost:8080/"
        },
        "outputId": "2c6481cd-87bf-4f5e-b75f-cef962331b85"
      },
      "execution_count": 43,
      "outputs": [
        {
          "output_type": "stream",
          "name": "stdout",
          "text": [
            "Podaj swojego zwierzaka: pies\n",
            "Witaj pies\n",
            "Podaj swojego zwierzaka: kot\n",
            "Witaj kot\n",
            "bye bye\n"
          ]
        }
      ]
    },
    {
      "cell_type": "markdown",
      "source": [
        "#Gra\n",
        "\n",
        "Komputer losowo wybiera liczbę między 1 a 100, a zadaniem gracza jest odgadnięcie tej liczby. Gracz wprowadza swoje typy przez konsolę. Po każdej próbie, program informuje, czy szukana liczba jest większa czy mniejsza od podanej przez gracza. Gdy gracz odgadnie liczbę, gra kończy się wiadomością o gratulacjach oraz informacją, ile prób było potrzebnych do odgadnięcia liczby. Gra używa pętli while, instrukcji warunkowych if, elif, else, oraz inkrementacji licznika prób, aby śledzić postęp gracza.2.   Element listy\n",
        "\n"
      ],
      "metadata": {
        "id": "rXcS3I848IVm"
      }
    },
    {
      "cell_type": "code",
      "source": [
        "import random\n",
        "\n",
        "licznik = 1\n",
        "lucky_number = random.randint(1, 100)\n",
        "\n",
        "print('Witaj w grze!')\n",
        "\n",
        "while True:\n",
        "  user_lucky_number = int(input('Podaj o jakiej liczbie myśli komputer: '))\n",
        "  if user_lucky_number == lucky_number:\n",
        "    print(f'Gratulacje!! Wygrałaś!! Potrzebowałaś do tego {licznik} prób')\n",
        "    break\n",
        "  elif user_lucky_number > lucky_number:\n",
        "    print('Pudło, musisz celować niżej')\n",
        "    licznik += 1\n",
        "  elif user_lucky_number < lucky_number:\n",
        "    print('Pudło, musisz celować wyżej')\n",
        "    licznik += 1\n"
      ],
      "metadata": {
        "id": "wYD9iJQd8I2n",
        "colab": {
          "base_uri": "https://localhost:8080/"
        },
        "outputId": "08e2c834-f04d-4870-d1d1-42823787b237"
      },
      "execution_count": 44,
      "outputs": [
        {
          "output_type": "stream",
          "name": "stdout",
          "text": [
            "Witaj w grze!\n",
            "Podaj o jakiej liczbie myśli komputer: 10\n",
            "Pudło, musisz celować wyżej\n",
            "Podaj o jakiej liczbie myśli komputer: 40\n",
            "Pudło, musisz celować wyżej\n",
            "Podaj o jakiej liczbie myśli komputer: 60\n",
            "Pudło, musisz celować wyżej\n",
            "Podaj o jakiej liczbie myśli komputer: 80\n",
            "Pudło, musisz celować wyżej\n",
            "Podaj o jakiej liczbie myśli komputer: 90\n",
            "Pudło, musisz celować niżej\n",
            "Podaj o jakiej liczbie myśli komputer: 50\n",
            "Pudło, musisz celować wyżej\n",
            "Podaj o jakiej liczbie myśli komputer: 70\n",
            "Pudło, musisz celować wyżej\n",
            "Podaj o jakiej liczbie myśli komputer: 80\n",
            "Pudło, musisz celować wyżej\n",
            "Podaj o jakiej liczbie myśli komputer: 88\n",
            "Gratulacje!! Wygrałaś!! Potrzebowałaś do tego 9 prób\n"
          ]
        }
      ]
    }
  ]
}
